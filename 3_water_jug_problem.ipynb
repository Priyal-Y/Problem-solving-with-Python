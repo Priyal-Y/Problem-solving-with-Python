{
  "nbformat": 4,
  "nbformat_minor": 0,
  "metadata": {
    "colab": {
      "name": "3 water jug problem.ipynb",
      "provenance": [],
      "authorship_tag": "ABX9TyPG+njffLMwbrAdgniyJdQ0",
      "include_colab_link": true
    },
    "kernelspec": {
      "name": "python3",
      "display_name": "Python 3"
    },
    "language_info": {
      "name": "python"
    }
  },
  "cells": [
    {
      "cell_type": "markdown",
      "metadata": {
        "id": "view-in-github",
        "colab_type": "text"
      },
      "source": [
        "<a href=\"https://colab.research.google.com/github/Priyal-Y/Problem-solving-with-Python/blob/main/3_water_jug_problem.ipynb\" target=\"_parent\"><img src=\"https://colab.research.google.com/assets/colab-badge.svg\" alt=\"Open In Colab\"/></a>"
      ]
    },
    {
      "cell_type": "code",
      "execution_count": null,
      "metadata": {
        "colab": {
          "base_uri": "https://localhost:8080/"
        },
        "id": "DIJhNbcc3LxM",
        "outputId": "9c5c2455-540a-499e-f9dc-2f7a1d851e79"
      },
      "outputs": [
        {
          "output_type": "stream",
          "name": "stdout",
          "text": [
            "Starting work...\n",
            "\n",
            "(8, 0, 0)\n",
            "(3, 5, 0)\n",
            "(0, 5, 3)\n",
            "(5, 0, 3)\n",
            "(5, 3, 0)\n",
            "(2, 3, 3)\n",
            "(2, 5, 1)\n",
            "(7, 0, 1)\n",
            "(7, 1, 0)\n",
            "(4, 1, 3)\n",
            "(4, 4, 0)\n"
          ]
        }
      ],
      "source": [
        "capacity = (8,5,3) \n",
        "\n",
        "x = capacity[0]\n",
        "y = capacity[1]\n",
        "z = capacity[2]\n",
        "\n",
        "memory = {}\n",
        "\n",
        "ans = []\n",
        "\n",
        "def get_all_states(state):\n",
        "\ta = state[0]\n",
        "\tb = state[1]\n",
        "\tc = state[2]\n",
        "\n",
        "\tif(a==4 and b==4):\n",
        "\t\tans.append(state)\n",
        "\t\treturn True\n",
        "\tif((a,b,c) in memory):\n",
        "\t\treturn False\n",
        "\n",
        "\tmemory[(a,b,c)] = 1\n",
        "\tif(a>0):\n",
        "\t\tif(a+b<=y):\n",
        "\t\t\tif( get_all_states((0,a+b,c)) ):\n",
        "\t\t\t\tans.append(state)\n",
        "\t\t\t\treturn True\n",
        "\t\telse:\n",
        "\t\t\tif( get_all_states((a-(y-b), y, c)) ):\n",
        "\t\t\t\tans.append(state)\n",
        "\t\t\t\treturn True\n",
        "\t\tif(a+c<=z):\n",
        "\t\t\tif( get_all_states((0,b,a+c)) ):\n",
        "\t\t\t\tans.append(state)\n",
        "\t\t\t\treturn True\n",
        "\t\telse:\n",
        "\t\t\tif( get_all_states((a-(z-c), b, z)) ):\n",
        "\t\t\t\tans.append(state)\n",
        "\t\t\t\treturn True\n",
        "\tif(b>0):\n",
        "\t\tif(a+b<=x):\n",
        "\t\t\tif( get_all_states((a+b, 0, c)) ):\n",
        "\t\t\t\tans.append(state)\n",
        "\t\t\t\treturn True\n",
        "\t\telse:\n",
        "\t\t\tif( get_all_states((x, b-(x-a), c)) ):\n",
        "\t\t\t\tans.append(state)\n",
        "\t\t\t\treturn True\n",
        "\t\t#empty b into c\n",
        "\t\tif(b+c<=z):\n",
        "\t\t\tif( get_all_states((a, 0, b+c)) ):\n",
        "\t\t\t\tans.append(state)\n",
        "\t\t\t\treturn True\n",
        "\t\telse:\n",
        "\t\t\tif( get_all_states((a, b-(z-c), z)) ):\n",
        "\t\t\t\tans.append(state)\n",
        "\t\t\t\treturn True\n",
        "\n",
        "\t#empty jug c\n",
        "\tif(c>0):\n",
        "\t\t#empty c into a\n",
        "\t\tif(a+c<=x):\n",
        "\t\t\tif( get_all_states((a+c, b, 0)) ):\n",
        "\t\t\t\tans.append(state)\n",
        "\t\t\t\treturn True\n",
        "\t\telse:\n",
        "\t\t\tif( get_all_states((x, b, c-(x-a))) ):\n",
        "\t\t\t\tans.append(state)\n",
        "\t\t\t\treturn True\n",
        "\t\t#empty c into b\n",
        "\t\tif(b+c<=y):\n",
        "\t\t\tif( get_all_states((a, b+c, 0)) ):\n",
        "\t\t\t\tans.append(state)\n",
        "\t\t\t\treturn True\n",
        "\t\telse:\n",
        "\t\t\tif( get_all_states((a, y, c-(y-b))) ):\n",
        "\t\t\t\tans.append(state)\n",
        "\t\t\t\treturn True\n",
        "\n",
        "\treturn False\n",
        "\n",
        "initial_state = (8,0,0)\n",
        "print(\"Starting work...\\n\")\n",
        "get_all_states(initial_state)\n",
        "ans.reverse()\n",
        "for i in ans:\n",
        "\tprint(i)\n"
      ]
    }
  ]
}