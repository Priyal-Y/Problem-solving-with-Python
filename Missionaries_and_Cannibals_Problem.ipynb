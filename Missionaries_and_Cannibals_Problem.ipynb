{
  "nbformat": 4,
  "nbformat_minor": 0,
  "metadata": {
    "colab": {
      "name": "Missionaries and Cannibals Problem.ipynb",
      "provenance": [],
      "authorship_tag": "ABX9TyOOuFDSD8dnVVcNY6xxMBK5",
      "include_colab_link": true
    },
    "kernelspec": {
      "name": "python3",
      "display_name": "Python 3"
    },
    "language_info": {
      "name": "python"
    }
  },
  "cells": [
    {
      "cell_type": "markdown",
      "metadata": {
        "id": "view-in-github",
        "colab_type": "text"
      },
      "source": [
        "<a href=\"https://colab.research.google.com/github/Priyal-Y/Problem-solving-with-Python/blob/main/Missionaries_and_Cannibals_Problem.ipynb\" target=\"_parent\"><img src=\"https://colab.research.google.com/assets/colab-badge.svg\" alt=\"Open In Colab\"/></a>"
      ]
    },
    {
      "cell_type": "code",
      "source": [
        ""
      ],
      "metadata": {
        "id": "Fh986Jb-ZQmk"
      },
      "execution_count": null,
      "outputs": []
    },
    {
      "cell_type": "code",
      "source": [
        "from collections import deque\n",
        "\n",
        "class State(object):\n",
        "  def __init__(self, missionaries, cannibals, boats):\n",
        "    self.missionaries = missionaries\n",
        "    self.cannibals = cannibals\n",
        "    self.boats = boats\n",
        "  \n",
        "  def successors(self):\n",
        "    if self.boats == 1:\n",
        "      sgn = -1\n",
        "      direction = \"from the left bank to the right bank\"\n",
        "    else:\n",
        "      sgn = 1\n",
        "      direction = \"back from the right bank to the left bank\" \n",
        "    for m in range(3):\n",
        "      for c in range(3):\n",
        "        newState = State(self.missionaries+sgn*m, self.cannibals+sgn*c, self.boats+sgn*1);\n",
        "        if m+c >= 1 and m+c <= 2 and newState.isValid():    # check whether action and resulting state are valid\n",
        "          action = \"take %d missionaries and %d cannibals %s. %r\" % ( m, c, direction, newState) \n",
        "          yield action, newState\n",
        "            \n",
        "  def isValid(self):\n",
        "    # first check the obvious\n",
        "    if self.missionaries < 0 or self.cannibals < 0 or self.missionaries > 3 or self.cannibals > 3 or (self.boats != 0 and self.boats != 1):\n",
        "      return False   \n",
        "    # then check whether missionaries outnumbered by cannibals\n",
        "    if self.cannibals > self.missionaries and self.missionaries > 0:    # more cannibals then missionaries on original shore\n",
        "      return False\n",
        "    if self.cannibals < self.missionaries and self.missionaries < 3:    # more cannibals then missionaries on other shore\n",
        "      return False\n",
        "    return True\n",
        "\n",
        "  def is_goal_state(self):\n",
        "    return self.cannibals == 0 and self.missionaries == 0 and self.boats == 0\n",
        "\n",
        "  def __repr__(self):\n",
        "    return \"< State (%d, %d, %d) >\" % (self.missionaries, self.cannibals, self.boats)\n",
        "\n",
        "\n",
        "class Node(object):  \n",
        "  def __init__(self, parent_node, state, action, depth):\n",
        "    self.parent_node = parent_node\n",
        "    self.state = state\n",
        "    self.action = action\n",
        "    self.depth = depth\n",
        "  \n",
        "  def expand(self):\n",
        "    for (action, succ_state) in self.state.successors():\n",
        "      succ_node = Node(\n",
        "                       parent_node=self,\n",
        "                       state=succ_state,\n",
        "                       action=action,\n",
        "                       depth=self.depth + 1)\n",
        "      yield succ_node\n",
        "  \n",
        "  def extract_solution(self):\n",
        "    solution = []\n",
        "    node = self\n",
        "    while node.parent_node is not None:\n",
        "      solution.append(node.action)\n",
        "      node = node.parent_node\n",
        "    solution.reverse()\n",
        "    return solution\n",
        "\n",
        "def breadth_first_tree_search(initial_state):\n",
        "  initial_node = Node(\n",
        "                      parent_node=None,\n",
        "                      state=initial_state,\n",
        "                      action=None,\n",
        "                      depth=0)\n",
        "  fifo = deque([initial_node])\n",
        "  num_expansions = 0\n",
        "  max_depth = -1\n",
        "  while True:\n",
        "    if not fifo:\n",
        "      \n",
        "      return None\n",
        "    node = fifo.popleft()\n",
        "    if node.depth > max_depth:\n",
        "      max_depth = node.depth\n",
        "      \n",
        "    if node.state.is_goal_state():\n",
        "      \n",
        "      solution = node.extract_solution()\n",
        "      return solution\n",
        "    num_expansions += 1\n",
        "    fifo.extend(node.expand())\n",
        "\n",
        "\n",
        "\n",
        "\n",
        "def main():\n",
        "  initial_state = State(3,3,1)\n",
        "  solution = breadth_first_tree_search(initial_state)\n",
        "  if solution is None:\n",
        "    print (\"no solution\")\n",
        "  else:\n",
        "    print (\"solution (%d steps):\" % len(solution))\n",
        "    for step in solution:\n",
        "      print (\"%s\" % step)\n",
        "  \n",
        "\n",
        "if __name__ == \"__main__\":\n",
        "  main()\n"
      ],
      "metadata": {
        "colab": {
          "base_uri": "https://localhost:8080/"
        },
        "id": "EEBYiRGUZKTn",
        "outputId": "211a4455-78c5-4286-d940-49e4a7765335"
      },
      "execution_count": null,
      "outputs": [
        {
          "output_type": "stream",
          "name": "stdout",
          "text": [
            "solution (11 steps):\n",
            "take 0 missionaries and 2 cannibals from the left bank to the right bank. < State (3, 1, 0) >\n",
            "take 0 missionaries and 1 cannibals back from the right bank to the left bank. < State (3, 2, 1) >\n",
            "take 0 missionaries and 2 cannibals from the left bank to the right bank. < State (3, 0, 0) >\n",
            "take 0 missionaries and 1 cannibals back from the right bank to the left bank. < State (3, 1, 1) >\n",
            "take 2 missionaries and 0 cannibals from the left bank to the right bank. < State (1, 1, 0) >\n",
            "take 1 missionaries and 1 cannibals back from the right bank to the left bank. < State (2, 2, 1) >\n",
            "take 2 missionaries and 0 cannibals from the left bank to the right bank. < State (0, 2, 0) >\n",
            "take 0 missionaries and 1 cannibals back from the right bank to the left bank. < State (0, 3, 1) >\n",
            "take 0 missionaries and 2 cannibals from the left bank to the right bank. < State (0, 1, 0) >\n",
            "take 0 missionaries and 1 cannibals back from the right bank to the left bank. < State (0, 2, 1) >\n",
            "take 0 missionaries and 2 cannibals from the left bank to the right bank. < State (0, 0, 0) >\n"
          ]
        }
      ]
    }
  ]
}