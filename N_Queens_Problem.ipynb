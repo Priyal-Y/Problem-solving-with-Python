{
  "nbformat": 4,
  "nbformat_minor": 0,
  "metadata": {
    "colab": {
      "name": "N-Queens Problem.ipynb",
      "provenance": [],
      "authorship_tag": "ABX9TyOHC2C62rfz/8wkfDZY6N58",
      "include_colab_link": true
    },
    "kernelspec": {
      "name": "python3",
      "display_name": "Python 3"
    },
    "language_info": {
      "name": "python"
    }
  },
  "cells": [
    {
      "cell_type": "markdown",
      "metadata": {
        "id": "view-in-github",
        "colab_type": "text"
      },
      "source": [
        "<a href=\"https://colab.research.google.com/github/Priyal-Y/Problem-solving-with-Python/blob/main/N_Queens_Problem.ipynb\" target=\"_parent\"><img src=\"https://colab.research.google.com/assets/colab-badge.svg\" alt=\"Open In Colab\"/></a>"
      ]
    },
    {
      "cell_type": "code",
      "execution_count": null,
      "metadata": {
        "colab": {
          "base_uri": "https://localhost:8080/"
        },
        "id": "udzwyJZ2prOh",
        "outputId": "0ceb6845-e8f4-4be2-fecc-a9383af234fc"
      },
      "outputs": [
        {
          "output_type": "stream",
          "name": "stdout",
          "text": [
            "Enter the number of queens\n",
            "5\n",
            "[1, 0, 0, 0, 0]\n",
            "[0, 0, 1, 0, 0]\n",
            "[0, 0, 0, 0, 1]\n",
            "[0, 1, 0, 0, 0]\n",
            "[0, 0, 0, 1, 0]\n"
          ]
        }
      ],
      "source": [
        "print (\"Enter the number of queens\")\n",
        "N = int(input())\n",
        "board = [[0]*N for _ in range(N)]\n",
        "\n",
        "def is_attack(i, j):\n",
        "    for k in range(0,N):\n",
        "        if board[i][k]==1 or board[k][j]==1:\n",
        "            return True\n",
        "    for k in range(0,N):\n",
        "        for l in range(0,N):\n",
        "            if (k+l==i+j) or (k-l==i-j):\n",
        "                if board[k][l]==1:\n",
        "                    return True\n",
        "    return False\n",
        "\n",
        "def N_queen(n):\n",
        "    if n==0:\n",
        "        return True\n",
        "    for i in range(0,N):\n",
        "        for j in range(0,N):\n",
        "            '''checking if we can place a queen here or not\n",
        "            queen will not be placed if the place is being attacked\n",
        "            or already occupied'''\n",
        "            if (not(is_attack(i,j))) and (board[i][j]!=1):\n",
        "                board[i][j] = 1\n",
        "                if N_queen(n-1)==True:\n",
        "                    return True\n",
        "                board[i][j] = 0\n",
        "\n",
        "    return False\n",
        "\n",
        "N_queen(N)\n",
        "for i in board:\n",
        "    print (i)"
      ]
    }
  ]
}